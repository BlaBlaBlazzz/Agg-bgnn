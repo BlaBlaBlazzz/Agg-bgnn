{
 "cells": [
  {
   "cell_type": "markdown",
   "metadata": {},
   "source": [
    "### Construct graph"
   ]
  },
  {
   "cell_type": "code",
   "execution_count": 37,
   "metadata": {},
   "outputs": [],
   "source": [
    "import networkx as nx\n",
    "import matplotlib.pyplot as plt\n",
    "import numpy as np\n",
    "from sklearn.metrics.pairwise import cosine_similarity\n",
    "\n",
    "def construct_graph(data):\n",
    "    G = nx.Graph()\n",
    "    nodes = list(data.index)\n",
    "    G.add_nodes_from(nodes)\n",
    "\n",
    "    # print(G.nodes()[1]['features'])\n",
    "    simul = {i:{} for i in range(data.shape[0])}\n",
    "    for id1 in range(data.shape[0]):\n",
    "        for id2 in range(data.shape[0]):\n",
    "            if id1 != id2:\n",
    "                feature1 = data.iloc[id1]\n",
    "                feature2 = data.iloc[id2]\n",
    "\n",
    "                # simularity\n",
    "                simularity = cosine_similarity([feature1], [feature2])[0][0]\n",
    "                simul[id1][id2] = simularity\n",
    "    \n",
    "    # sorted\n",
    "    sorted_simul = {}\n",
    "    \n",
    "    for key, values in simul.items():\n",
    "        sorted_simul[key] = dict(sorted(values.items(), key=lambda x:x[1], reverse=True))\n",
    "\n",
    "        # top 5 simularity\n",
    "        top5 = list(sorted_simul[key].keys())[:5]\n",
    "        for node in top5:\n",
    "            G.add_edge(key, node)\n",
    "            \n",
    "    '''\n",
    "    pos = nx.spring_layout(G)\n",
    "    nx.draw(G, pos, with_labels=True, font_weight='bold', node_size=500)\n",
    "    plt.show()\n",
    "    '''\n",
    "\n",
    "    # write graphml file\n",
    "    nx.write_graphml(G, \"mygraph.graphml\")\n",
    "\n",
    "def construct_graph2(data):\n",
    "    G = nx.Graph()\n",
    "    nodes = list(data.index)\n",
    "\n",
    "    G.add_nodes_from(nodes)\n",
    "    simularity = cosine_similarity(data.values, data.values)\n",
    "    \n",
    "    # sorted_simul = []\n",
    "    for node in nodes:\n",
    "        # reversed argsort\n",
    "        sorted_simul_arg = np.argsort(simularity[node])[::-1]\n",
    "        # exclude itself\n",
    "        top5 = sorted_simul_arg[1:6]\n",
    "        G.add_edges_from([node, n] for n in top5)\n",
    "    \n",
    "    nx.write_graphml(G, \"mygraph.graphml\")\n",
    "    \n",
    "    "
   ]
  },
  {
   "cell_type": "markdown",
   "metadata": {},
   "source": [
    "### Construct masks"
   ]
  },
  {
   "cell_type": "code",
   "execution_count": 2,
   "metadata": {},
   "outputs": [
    {
     "name": "stdout",
     "output_type": "stream",
     "text": [
      "{'0': {'train': [], 'val': [], 'test': []}, '1': {'train': [], 'val': [], 'test': []}, '2': {'train': [], 'val': [], 'test': []}, '3': {'train': [], 'val': [], 'test': []}, '4': {'train': [], 'val': [], 'test': []}}\n"
     ]
    }
   ],
   "source": [
    "masks = {str(i):{\"train\":[], \"val\":[], \"test\":[]} for i in range(5)}\n",
    "print(masks)"
   ]
  },
  {
   "cell_type": "code",
   "execution_count": 3,
   "metadata": {},
   "outputs": [],
   "source": [
    "import csv\n",
    "\n",
    "def write_csv(data, path):\n",
    "    with open(path, \"w\", newline='') as f:\n",
    "        writer = csv.writer(f)\n",
    "        writer.writerows(data)"
   ]
  },
  {
   "cell_type": "markdown",
   "metadata": {},
   "source": [
    "### Optical recognition of handwritten digits dataset"
   ]
  },
  {
   "cell_type": "code",
   "execution_count": 21,
   "metadata": {},
   "outputs": [],
   "source": [
    "import pandas as pd\n",
    "\n",
    "path1 = 'datasets/optdigit/train_data.csv'\n",
    "path2 = 'datasets/optdigit/test_data.csv'\n",
    "\n",
    "train_data = pd.read_csv(path1, header=None)\n",
    "test_data = pd.read_csv(path2, header=None)\n",
    "\n",
    "data = pd.concat([train_data, test_data], axis=0)\n",
    "label = data.iloc[:, -1]\n",
    "data = data.iloc[:, :-1]\n",
    "# print(data.shape)\n",
    "\n",
    "# write_csv(label, \"y.csv\")\n",
    "# data.to_csv(\"X.csv\", index=False)\n",
    "# label.to_csv(\"y.csv\", index=False, header=[\"class\"])\n",
    "# construct_graph2(data)"
   ]
  },
  {
   "cell_type": "markdown",
   "metadata": {},
   "source": [
    "### Wine recognition dataset"
   ]
  },
  {
   "cell_type": "code",
   "execution_count": null,
   "metadata": {},
   "outputs": [],
   "source": []
  },
  {
   "cell_type": "markdown",
   "metadata": {},
   "source": [
    "### Breast cancer wisconsin (diagnostic) dataset"
   ]
  },
  {
   "cell_type": "code",
   "execution_count": null,
   "metadata": {},
   "outputs": [],
   "source": []
  }
 ],
 "metadata": {
  "kernelspec": {
   "display_name": "bgnn-env",
   "language": "python",
   "name": "python3"
  },
  "language_info": {
   "codemirror_mode": {
    "name": "ipython",
    "version": 3
   },
   "file_extension": ".py",
   "mimetype": "text/x-python",
   "name": "python",
   "nbconvert_exporter": "python",
   "pygments_lexer": "ipython3",
   "version": "3.7.12"
  },
  "orig_nbformat": 4
 },
 "nbformat": 4,
 "nbformat_minor": 2
}
