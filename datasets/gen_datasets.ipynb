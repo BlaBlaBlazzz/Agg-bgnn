{
 "cells": [
  {
   "cell_type": "markdown",
   "metadata": {},
   "source": [
    "### Construct graph"
   ]
  },
  {
   "cell_type": "code",
   "execution_count": 6,
   "metadata": {},
   "outputs": [],
   "source": [
    "import networkx as nx\n",
    "import matplotlib.pyplot as plt\n",
    "import numpy as np\n",
    "from sklearn.metrics.pairwise import cosine_similarity\n",
    "\n",
    "def construct_graph(data):\n",
    "    G = nx.Graph()\n",
    "    nodes = list(data.index)\n",
    "    G.add_nodes_from(nodes)\n",
    "\n",
    "    # print(G.nodes()[1]['features'])\n",
    "    simul = {i:{} for i in range(data.shape[0])}\n",
    "    for id1 in range(data.shape[0]):\n",
    "        for id2 in range(data.shape[0]):\n",
    "            if id1 != id2:\n",
    "                feature1 = data.iloc[id1]\n",
    "                feature2 = data.iloc[id2]\n",
    "\n",
    "                # simularity\n",
    "                simularity = cosine_similarity([feature1], [feature2])[0][0]\n",
    "                simul[id1][id2] = simularity\n",
    "    \n",
    "    # sorted\n",
    "    sorted_simul = {}\n",
    "    \n",
    "    for key, values in simul.items():\n",
    "        sorted_simul[key] = dict(sorted(values.items(), key=lambda x:x[1], reverse=True))\n",
    "\n",
    "        # top 5 simularity\n",
    "        top5 = list(sorted_simul[key].keys())[:5]\n",
    "        for node in top5:\n",
    "            G.add_edge(key, node)\n",
    "            \n",
    "    '''\n",
    "    pos = nx.spring_layout(G)\n",
    "    nx.draw(G, pos, with_labels=True, font_weight='bold', node_size=500)\n",
    "    plt.show()\n",
    "    '''\n",
    "\n",
    "    # write graphml file\n",
    "    nx.write_graphml(G, \"mygraph.graphml\")\n",
    "\n",
    "def construct_graph2(data):\n",
    "    G = nx.Graph()\n",
    "    nodes = list(data.index)\n",
    "\n",
    "    G.add_nodes_from(nodes)\n",
    "    simularity = cosine_similarity(data.values, data.values)\n",
    "    \n",
    "    # sorted_simul = []\n",
    "    for node in nodes:\n",
    "        # reversed argsort\n",
    "        sorted_simul_arg = np.argsort(simularity[node])[::-1]\n",
    "        # exclude itself\n",
    "        top5 = sorted_simul_arg[1:6]\n",
    "        G.add_edges_from([node, n] for n in top5)\n",
    "    \n",
    "    nx.write_graphml(G, \"graph.graphml\")\n",
    "    \n",
    "    "
   ]
  },
  {
   "cell_type": "markdown",
   "metadata": {},
   "source": [
    "### Generate masks"
   ]
  },
  {
   "cell_type": "code",
   "execution_count": 7,
   "metadata": {},
   "outputs": [],
   "source": [
    "import random\n",
    "import json\n",
    "\n",
    "def gen_masks(data, path):\n",
    "    masks = {str(i):{\"train\":[], \"val\":[], \"test\":[]} for i in range(5)}\n",
    "    scale_config = [int(0.6*len(data)), int(0.2*len(data)), int(0.2*len(data))]\n",
    "    # print(scale_config)\n",
    "\n",
    "    for key in list(masks.keys()):\n",
    "        ids = list(data.index)\n",
    "        random.shuffle(ids)\n",
    "\n",
    "        masks[key][\"train\"] = ids[: scale_config[0]]\n",
    "        masks[key][\"val\"] = ids[scale_config[0]:scale_config[0]+scale_config[1]]\n",
    "        masks[key][\"test\"] = ids[scale_config[0]+scale_config[1]:]\n",
    "\n",
    "    write_json(masks, path)\n",
    "\n",
    "\n",
    "def write_json(data, path):\n",
    "    with open(path, \"w\") as f:\n",
    "        json.dump(data, f)\n"
   ]
  },
  {
   "cell_type": "markdown",
   "metadata": {},
   "source": [
    "### Optical recognition of handwritten digits dataset"
   ]
  },
  {
   "cell_type": "code",
   "execution_count": 16,
   "metadata": {},
   "outputs": [],
   "source": [
    "import pandas as pd\n",
    "\n",
    "path1 = 'optdigit/train_data.csv'\n",
    "path2 = 'optdigit/test_data.csv'\n",
    "\n",
    "train_data = pd.read_csv(path1, header=None)\n",
    "test_data = pd.read_csv(path2, header=None)\n",
    "\n",
    "data = pd.concat([train_data, test_data], axis=0, ignore_index=True)\n",
    "label = data.iloc[:, -1]\n",
    "data = data.iloc[:, :-1]\n",
    "# print(data.shape)\n",
    "\n",
    "# create X.csv\n",
    "# data.to_csv(\"X.csv\", index=False)\n",
    "# create y.csv\n",
    "# label.to_csv(\"y.csv\", index=False, header=[\"class\"])\n",
    "# create graph.graphml\n",
    "# construct_graph2(data)\n",
    "# create masks.json\n",
    "# gen_masks(data, \"masks.json\")"
   ]
  },
  {
   "cell_type": "markdown",
   "metadata": {},
   "source": [
    "### Wine recognition dataset"
   ]
  },
  {
   "cell_type": "code",
   "execution_count": 8,
   "metadata": {},
   "outputs": [],
   "source": [
    "import pandas as pd\n",
    "\n",
    "path = 'wine/wine.data.csv'\n",
    "\n",
    "data = pd.read_csv(path, header=None)\n",
    "label = data.iloc[:, 0]\n",
    "data = data.iloc[:,1:]\n",
    "\n",
    "# create X.csv\n",
    "data.to_csv(\"X.csv\", index=False)\n",
    "# create y.csv\n",
    "label.to_csv(\"y.csv\", index=False, header=[\"class\"])\n",
    "# create graph.graphml\n",
    "construct_graph2(data)\n",
    "# create masks.json\n",
    "gen_masks(data, \"masks.json\")"
   ]
  },
  {
   "cell_type": "markdown",
   "metadata": {},
   "source": [
    "### Breast cancer wisconsin (diagnostic) dataset"
   ]
  },
  {
   "cell_type": "code",
   "execution_count": 15,
   "metadata": {},
   "outputs": [],
   "source": [
    "import pandas as pd\n",
    "\n",
    "path = 'wdbc/wdbc.data.csv'\n",
    "\n",
    "data = pd.read_csv(path, header=None)\n",
    "label = data.iloc[:, 1].replace({\"B\":1, \"M\":0})\n",
    "data = data.iloc[:, 2:]\n",
    "\n",
    "# create X.csv\n",
    "data.to_csv(\"X.csv\", index=False)\n",
    "# create y.csv\n",
    "label.to_csv(\"y.csv\", index=False, header=[\"class\"])\n",
    "# create graph.graphml\n",
    "construct_graph2(data)\n",
    "# create masks.json\n",
    "gen_masks(data, \"masks.json\")"
   ]
  },
  {
   "cell_type": "code",
   "execution_count": null,
   "metadata": {},
   "outputs": [],
   "source": []
  }
 ],
 "metadata": {
  "kernelspec": {
   "display_name": "bgnn-env",
   "language": "python",
   "name": "python3"
  },
  "language_info": {
   "codemirror_mode": {
    "name": "ipython",
    "version": 3
   },
   "file_extension": ".py",
   "mimetype": "text/x-python",
   "name": "python",
   "nbconvert_exporter": "python",
   "pygments_lexer": "ipython3",
   "version": "3.7.12"
  },
  "orig_nbformat": 4
 },
 "nbformat": 4,
 "nbformat_minor": 2
}
